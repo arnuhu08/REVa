{
 "cells": [
  {
   "cell_type": "code",
   "execution_count": 3,
   "metadata": {},
   "outputs": [],
   "source": [
    "import matplotlib.pyplot as plt\n",
    "from tensorflow.keras.datasets import cifar10"
   ]
  },
  {
   "cell_type": "code",
   "execution_count": 4,
   "metadata": {},
   "outputs": [],
   "source": [
    "(x_train, y_train), (x_test, ytest) = cifar10.load_data()"
   ]
  },
  {
   "cell_type": "code",
   "execution_count": 5,
   "metadata": {},
   "outputs": [
    {
     "name": "stdout",
     "output_type": "stream",
     "text": [
      "(1, 32, 32, 3)\n"
     ]
    }
   ],
   "source": [
    "import numpy as np\n",
    "data = np.expand_dims(x_test[0], axis=0)\n",
    "print(data.shape)"
   ]
  },
  {
   "cell_type": "code",
   "execution_count": 6,
   "metadata": {},
   "outputs": [
    {
     "name": "stdout",
     "output_type": "stream",
     "text": [
      "creating corruption forfgsmperturbation\n"
     ]
    }
   ],
   "source": [
    "method_name = 'fgsm'\n",
    "print('creating corruption for' + method_name + 'perturbation')"
   ]
  },
  {
   "cell_type": "code",
   "execution_count": 15,
   "metadata": {},
   "outputs": [
    {
     "name": "stdout",
     "output_type": "stream",
     "text": [
      "(50, 32, 32, 3)\n",
      "(50, 32, 32, 3)\n"
     ]
    },
    {
     "data": {
      "image/png": "[encoded data removed]",
      "text/plain": [
       "<Figure size 200x200 with 1 Axes>"
      ]
     },
     "metadata": {},
     "output_type": "display_data"
    }
   ],
   "source": [
    "adv_fgsm = np.load('FGSM.npy')\n",
    "print(adv_fgsm.shape)\n",
    "fig = plt.figure(figsize = (2,2))\n",
    "plt.imshow(adv_fgsm[0])\n",
    "print(adv_fgsm.shape)\n"
   ]
  },
  {
   "cell_type": "code",
   "execution_count": 13,
   "metadata": {},
   "outputs": [
    {
     "name": "stdout",
     "output_type": "stream",
     "text": [
      "[[[170 121  52]\n",
      "  [171 119  50]\n",
      "  [177 124  54]\n",
      "  ...\n",
      "  [149 103  39]\n",
      "  [138 100  39]\n",
      "  [128  94  36]]\n",
      "\n",
      " [[164 121  55]\n",
      "  [163 119  43]\n",
      "  [171 123  48]\n",
      "  ...\n",
      "  [148 103  33]\n",
      "  [137 100  35]\n",
      "  [131  97  37]]\n",
      "\n",
      " [[163 119  50]\n",
      "  [163 118  35]\n",
      "  [170 119  38]\n",
      "  ...\n",
      "  [151 106  37]\n",
      "  [142 104  37]\n",
      "  [132  98  36]]\n",
      "\n",
      " ...\n",
      "\n",
      " [[ 72 132 189]\n",
      "  [ 45 108 160]\n",
      "  [ 33  96 149]\n",
      "  ...\n",
      "  [ 41 105 158]\n",
      "  [ 14  71 120]\n",
      "  [ 44  93 139]]\n",
      "\n",
      " [[ 65 124 180]\n",
      "  [ 53 110 160]\n",
      "  [ 38  93 144]\n",
      "  ...\n",
      "  [ 28  90 142]\n",
      "  [ 31  90 138]\n",
      "  [ 22  71 119]]\n",
      "\n",
      " [[ 58 115 172]\n",
      "  [ 60 113 161]\n",
      "  [ 49  97 144]\n",
      "  ...\n",
      "  [ 26  84 136]\n",
      "  [ 37  92 141]\n",
      "  [ 23  74 122]]]\n"
     ]
    },
    {
     "data": {
      "text/plain": [
       "<matplotlib.image.AxesImage at 0x1de4e15b3a0>"
      ]
     },
     "execution_count": 13,
     "metadata": {},
     "output_type": "execute_result"
    },
    {
     "data": {
      "image/png": "[encoded data removed]",
      "text/plain": [
       "<Figure size 640x480 with 1 Axes>"
      ]
     },
     "metadata": {},
     "output_type": "display_data"
    }
   ],
   "source": [
    "bright_data = np.load('brightness.npy')\n",
    "bright_data.shape\n",
    "print(bright_data[0])\n",
    "plt.imshow(bright_data[0])"
   ]
  },
  {
   "cell_type": "code",
   "execution_count": 11,
   "metadata": {},
   "outputs": [
    {
     "name": "stdout",
     "output_type": "stream",
     "text": [
      "50\n"
     ]
    }
   ],
   "source": [
    "label = np.load('labels.npy')\n",
    "print(len(label))"
   ]
  },
  {
   "cell_type": "code",
   "execution_count": 12,
   "metadata": {},
   "outputs": [
    {
     "data": {
      "text/plain": [
       "array([3, 8, 8, 0, 6, 6, 1, 6, 3, 1, 3, 8, 8, 0, 6, 6, 1, 6, 3, 1, 3, 8,\n",
       "       8, 0, 6, 6, 1, 6, 3, 1, 3, 8, 8, 0, 6, 6, 1, 6, 3, 1, 3, 8, 8, 0,\n",
       "       6, 6, 1, 6, 3, 1], dtype=uint8)"
      ]
     },
     "execution_count": 12,
     "metadata": {},
     "output_type": "execute_result"
    }
   ],
   "source": [
    "label"
   ]
  },
  {
   "cell_type": "code",
   "execution_count": null,
   "metadata": {},
   "outputs": [],
   "source": []
  }
 ],
 "metadata": {
  "kernelspec": {
   "display_name": "Python 3",
   "language": "python",
   "name": "python3"
  },
  "language_info": {
   "codemirror_mode": {
    "name": "ipython",
    "version": 3
   },
   "file_extension": ".py",
   "mimetype": "text/x-python",
   "name": "python",
   "nbconvert_exporter": "python",
   "pygments_lexer": "ipython3",
   "version": "3.10.0"
  }
 },
 "nbformat": 4,
 "nbformat_minor": 2
}
